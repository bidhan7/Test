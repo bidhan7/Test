{
  "nbformat": 4,
  "nbformat_minor": 0,
  "metadata": {
    "colab": {
      "name": "Exam3_Aayush_Bhurtel_CPSMA_4313.ipynb",
      "provenance": [],
      "collapsed_sections": [],
      "include_colab_link": true
    },
    "kernelspec": {
      "name": "python3",
      "display_name": "Python 3"
    },
    "language_info": {
      "name": "python"
    }
  },
  "cells": [
    {
      "cell_type": "markdown",
      "metadata": {
        "id": "view-in-github",
        "colab_type": "text"
      },
      "source": [
        "<a href=\"https://colab.research.google.com/github/bidhan7/Test/blob/master/Exam3.ipynb\" target=\"_parent\"><img src=\"https://colab.research.google.com/assets/colab-badge.svg\" alt=\"Open In Colab\"/></a>"
      ]
    },
    {
      "cell_type": "markdown",
      "source": [
        "# Data Visualization\n",
        "# Exam 3\n",
        "## Bidhan Subedi (222955)"
      ],
      "metadata": {
        "id": "Tc0o_vWxN9ba"
      }
    },
    {
      "cell_type": "code",
      "execution_count": null,
      "metadata": {
        "id": "1pItAcjxN3F1"
      },
      "outputs": [],
      "source": [
        "# loading libraries\n",
        "import pandas as pd\n",
        "import matplotlib.pyplot as plt\n",
        "import seaborn as sns\n"
      ]
    },
    {
      "cell_type": "markdown",
      "source": [
        "## References\n",
        "\n",
        "https://github.com/nurfnick/Data_Viz/\n",
        "\n",
        "https://pandas.pydata.org/docs/reference/frame.html\n",
        "\n",
        "https://thecodingbot.com/check-if-a-column-contains-specific-string-in-a-pandas-dataframe/#:~:text=Note%3A%20Pandas.-,str.,still%20would%20have%20returned%20True.\n",
        "\n",
        "I attest that the resources above were the only ones utilized in completing\n",
        "the exam and the work included is my own and no one else from the course\n",
        "\n"
      ],
      "metadata": {
        "id": "FaEGDdS27lil"
      }
    },
    {
      "cell_type": "markdown",
      "source": [
        "## 1)"
      ],
      "metadata": {
        "id": "lkBkmwSNRG9T"
      }
    },
    {
      "cell_type": "markdown",
      "source": [
        "## a) Store the data as a pandas dataframe. Find your favorite ‘club’ or ‘nationality’ (that is present in the data!), include a picture that represents them and include it in your notebook. (If no favorite, just pick one!)"
      ],
      "metadata": {
        "id": "xpxUC1BWRH0j"
      }
    },
    {
      "cell_type": "code",
      "source": [
        "df = pd.read_csv('https://raw.githubusercontent.com/nurfnick/Data_Viz/main/worldCupPlayer.csv')\n",
        "df"
      ],
      "metadata": {
        "id": "eUSDjLoJP9-H",
        "colab": {
          "base_uri": "https://localhost:8080/",
          "height": 423
        },
        "outputId": "667efc1b-b338-4b17-a5ad-8598f6a60cce"
      },
      "execution_count": null,
      "outputs": [
        {
          "output_type": "execute_result",
          "data": {
            "text/plain": [
              "     Unnamed: 0  Rank                player           club  age   Apps  Mins  \\\n",
              "0             0     1          Hakim Ziyech           Ajax   25     34  3043   \n",
              "1             2     2   Alireza Jahanbakhsh     AZ Alkmaar   24     33  2840   \n",
              "2             4     3        Hirving Lozano  PSV Eindhoven   22     29  2350   \n",
              "3             6    11          Lasse Schone           Ajax   32  27(3)  2350   \n",
              "4            10    25        Santiago Arias  PSV Eindhoven   26     30  2664   \n",
              "..          ...   ...                   ...            ...  ...    ...   ...   \n",
              "598        1150   200    Giancarlo Gonzalez        Bologna   30     22  1858   \n",
              "599        1152   217  Stephan Lichtsteiner       Juventus   34  21(6)  1715   \n",
              "600        1154   235        Dawid Kownacki      Sampdoria   21  6(16)   811   \n",
              "601        1156   265     Emil Hallfredsson        Udinese   33  8(11)   761   \n",
              "602        1158   269         Marcus Rohden        Crotone   27  20(6)  1637   \n",
              "\n",
              "     Goals  Assists  Yel  Red  SpG    PS AerialsWon  MotM  Rating  nationality  \n",
              "0        9       15    4    0  4.9  75.4        0.2     9    8.21      Morocco  \n",
              "1       21       12    3    0  4.3  73.4        0.7    14    8.20         Iran  \n",
              "2       17        8    4    2  3.4  75.3        0.6     8    7.90       Mexico  \n",
              "3       10        3    6    0  1.9  87.0        1.9     2    7.45      Denmark  \n",
              "4        3        6    5    0  1.5  82.3          1     2    7.25     Colombia  \n",
              "..     ...      ...  ...  ...  ...   ...        ...   ...     ...          ...  \n",
              "598      0        0    4    2    -  80.6        2.4     0    6.63   Costa Rica  \n",
              "599      0        2    6    0  0.1  82.2        0.9     0    6.59  Switzerland  \n",
              "600      5        1    0    0    1  75.4        1.4     0    6.51       Poland  \n",
              "601      0        0    5    0  0.1  88.5        0.6     0    6.39      Iceland  \n",
              "602      2        0    2    0  0.8  67.6        0.8     0    6.35       Sweden  \n",
              "\n",
              "[603 rows x 17 columns]"
            ],
            "text/html": [
              "\n",
              "  <div id=\"df-4243cb9b-200c-4254-8ed6-8354cc92707b\">\n",
              "    <div class=\"colab-df-container\">\n",
              "      <div>\n",
              "<style scoped>\n",
              "    .dataframe tbody tr th:only-of-type {\n",
              "        vertical-align: middle;\n",
              "    }\n",
              "\n",
              "    .dataframe tbody tr th {\n",
              "        vertical-align: top;\n",
              "    }\n",
              "\n",
              "    .dataframe thead th {\n",
              "        text-align: right;\n",
              "    }\n",
              "</style>\n",
              "<table border=\"1\" class=\"dataframe\">\n",
              "  <thead>\n",
              "    <tr style=\"text-align: right;\">\n",
              "      <th></th>\n",
              "      <th>Unnamed: 0</th>\n",
              "      <th>Rank</th>\n",
              "      <th>player</th>\n",
              "      <th>club</th>\n",
              "      <th>age</th>\n",
              "      <th>Apps</th>\n",
              "      <th>Mins</th>\n",
              "      <th>Goals</th>\n",
              "      <th>Assists</th>\n",
              "      <th>Yel</th>\n",
              "      <th>Red</th>\n",
              "      <th>SpG</th>\n",
              "      <th>PS</th>\n",
              "      <th>AerialsWon</th>\n",
              "      <th>MotM</th>\n",
              "      <th>Rating</th>\n",
              "      <th>nationality</th>\n",
              "    </tr>\n",
              "  </thead>\n",
              "  <tbody>\n",
              "    <tr>\n",
              "      <th>0</th>\n",
              "      <td>0</td>\n",
              "      <td>1</td>\n",
              "      <td>Hakim Ziyech</td>\n",
              "      <td>Ajax</td>\n",
              "      <td>25</td>\n",
              "      <td>34</td>\n",
              "      <td>3043</td>\n",
              "      <td>9</td>\n",
              "      <td>15</td>\n",
              "      <td>4</td>\n",
              "      <td>0</td>\n",
              "      <td>4.9</td>\n",
              "      <td>75.4</td>\n",
              "      <td>0.2</td>\n",
              "      <td>9</td>\n",
              "      <td>8.21</td>\n",
              "      <td>Morocco</td>\n",
              "    </tr>\n",
              "    <tr>\n",
              "      <th>1</th>\n",
              "      <td>2</td>\n",
              "      <td>2</td>\n",
              "      <td>Alireza Jahanbakhsh</td>\n",
              "      <td>AZ Alkmaar</td>\n",
              "      <td>24</td>\n",
              "      <td>33</td>\n",
              "      <td>2840</td>\n",
              "      <td>21</td>\n",
              "      <td>12</td>\n",
              "      <td>3</td>\n",
              "      <td>0</td>\n",
              "      <td>4.3</td>\n",
              "      <td>73.4</td>\n",
              "      <td>0.7</td>\n",
              "      <td>14</td>\n",
              "      <td>8.20</td>\n",
              "      <td>Iran</td>\n",
              "    </tr>\n",
              "    <tr>\n",
              "      <th>2</th>\n",
              "      <td>4</td>\n",
              "      <td>3</td>\n",
              "      <td>Hirving Lozano</td>\n",
              "      <td>PSV Eindhoven</td>\n",
              "      <td>22</td>\n",
              "      <td>29</td>\n",
              "      <td>2350</td>\n",
              "      <td>17</td>\n",
              "      <td>8</td>\n",
              "      <td>4</td>\n",
              "      <td>2</td>\n",
              "      <td>3.4</td>\n",
              "      <td>75.3</td>\n",
              "      <td>0.6</td>\n",
              "      <td>8</td>\n",
              "      <td>7.90</td>\n",
              "      <td>Mexico</td>\n",
              "    </tr>\n",
              "    <tr>\n",
              "      <th>3</th>\n",
              "      <td>6</td>\n",
              "      <td>11</td>\n",
              "      <td>Lasse Schone</td>\n",
              "      <td>Ajax</td>\n",
              "      <td>32</td>\n",
              "      <td>27(3)</td>\n",
              "      <td>2350</td>\n",
              "      <td>10</td>\n",
              "      <td>3</td>\n",
              "      <td>6</td>\n",
              "      <td>0</td>\n",
              "      <td>1.9</td>\n",
              "      <td>87.0</td>\n",
              "      <td>1.9</td>\n",
              "      <td>2</td>\n",
              "      <td>7.45</td>\n",
              "      <td>Denmark</td>\n",
              "    </tr>\n",
              "    <tr>\n",
              "      <th>4</th>\n",
              "      <td>10</td>\n",
              "      <td>25</td>\n",
              "      <td>Santiago Arias</td>\n",
              "      <td>PSV Eindhoven</td>\n",
              "      <td>26</td>\n",
              "      <td>30</td>\n",
              "      <td>2664</td>\n",
              "      <td>3</td>\n",
              "      <td>6</td>\n",
              "      <td>5</td>\n",
              "      <td>0</td>\n",
              "      <td>1.5</td>\n",
              "      <td>82.3</td>\n",
              "      <td>1</td>\n",
              "      <td>2</td>\n",
              "      <td>7.25</td>\n",
              "      <td>Colombia</td>\n",
              "    </tr>\n",
              "    <tr>\n",
              "      <th>...</th>\n",
              "      <td>...</td>\n",
              "      <td>...</td>\n",
              "      <td>...</td>\n",
              "      <td>...</td>\n",
              "      <td>...</td>\n",
              "      <td>...</td>\n",
              "      <td>...</td>\n",
              "      <td>...</td>\n",
              "      <td>...</td>\n",
              "      <td>...</td>\n",
              "      <td>...</td>\n",
              "      <td>...</td>\n",
              "      <td>...</td>\n",
              "      <td>...</td>\n",
              "      <td>...</td>\n",
              "      <td>...</td>\n",
              "      <td>...</td>\n",
              "    </tr>\n",
              "    <tr>\n",
              "      <th>598</th>\n",
              "      <td>1150</td>\n",
              "      <td>200</td>\n",
              "      <td>Giancarlo Gonzalez</td>\n",
              "      <td>Bologna</td>\n",
              "      <td>30</td>\n",
              "      <td>22</td>\n",
              "      <td>1858</td>\n",
              "      <td>0</td>\n",
              "      <td>0</td>\n",
              "      <td>4</td>\n",
              "      <td>2</td>\n",
              "      <td>-</td>\n",
              "      <td>80.6</td>\n",
              "      <td>2.4</td>\n",
              "      <td>0</td>\n",
              "      <td>6.63</td>\n",
              "      <td>Costa Rica</td>\n",
              "    </tr>\n",
              "    <tr>\n",
              "      <th>599</th>\n",
              "      <td>1152</td>\n",
              "      <td>217</td>\n",
              "      <td>Stephan Lichtsteiner</td>\n",
              "      <td>Juventus</td>\n",
              "      <td>34</td>\n",
              "      <td>21(6)</td>\n",
              "      <td>1715</td>\n",
              "      <td>0</td>\n",
              "      <td>2</td>\n",
              "      <td>6</td>\n",
              "      <td>0</td>\n",
              "      <td>0.1</td>\n",
              "      <td>82.2</td>\n",
              "      <td>0.9</td>\n",
              "      <td>0</td>\n",
              "      <td>6.59</td>\n",
              "      <td>Switzerland</td>\n",
              "    </tr>\n",
              "    <tr>\n",
              "      <th>600</th>\n",
              "      <td>1154</td>\n",
              "      <td>235</td>\n",
              "      <td>Dawid Kownacki</td>\n",
              "      <td>Sampdoria</td>\n",
              "      <td>21</td>\n",
              "      <td>6(16)</td>\n",
              "      <td>811</td>\n",
              "      <td>5</td>\n",
              "      <td>1</td>\n",
              "      <td>0</td>\n",
              "      <td>0</td>\n",
              "      <td>1</td>\n",
              "      <td>75.4</td>\n",
              "      <td>1.4</td>\n",
              "      <td>0</td>\n",
              "      <td>6.51</td>\n",
              "      <td>Poland</td>\n",
              "    </tr>\n",
              "    <tr>\n",
              "      <th>601</th>\n",
              "      <td>1156</td>\n",
              "      <td>265</td>\n",
              "      <td>Emil Hallfredsson</td>\n",
              "      <td>Udinese</td>\n",
              "      <td>33</td>\n",
              "      <td>8(11)</td>\n",
              "      <td>761</td>\n",
              "      <td>0</td>\n",
              "      <td>0</td>\n",
              "      <td>5</td>\n",
              "      <td>0</td>\n",
              "      <td>0.1</td>\n",
              "      <td>88.5</td>\n",
              "      <td>0.6</td>\n",
              "      <td>0</td>\n",
              "      <td>6.39</td>\n",
              "      <td>Iceland</td>\n",
              "    </tr>\n",
              "    <tr>\n",
              "      <th>602</th>\n",
              "      <td>1158</td>\n",
              "      <td>269</td>\n",
              "      <td>Marcus Rohden</td>\n",
              "      <td>Crotone</td>\n",
              "      <td>27</td>\n",
              "      <td>20(6)</td>\n",
              "      <td>1637</td>\n",
              "      <td>2</td>\n",
              "      <td>0</td>\n",
              "      <td>2</td>\n",
              "      <td>0</td>\n",
              "      <td>0.8</td>\n",
              "      <td>67.6</td>\n",
              "      <td>0.8</td>\n",
              "      <td>0</td>\n",
              "      <td>6.35</td>\n",
              "      <td>Sweden</td>\n",
              "    </tr>\n",
              "  </tbody>\n",
              "</table>\n",
              "<p>603 rows × 17 columns</p>\n",
              "</div>\n",
              "      <button class=\"colab-df-convert\" onclick=\"convertToInteractive('df-4243cb9b-200c-4254-8ed6-8354cc92707b')\"\n",
              "              title=\"Convert this dataframe to an interactive table.\"\n",
              "              style=\"display:none;\">\n",
              "        \n",
              "  <svg xmlns=\"http://www.w3.org/2000/svg\" height=\"24px\"viewBox=\"0 0 24 24\"\n",
              "       width=\"24px\">\n",
              "    <path d=\"M0 0h24v24H0V0z\" fill=\"none\"/>\n",
              "    <path d=\"M18.56 5.44l.94 2.06.94-2.06 2.06-.94-2.06-.94-.94-2.06-.94 2.06-2.06.94zm-11 1L8.5 8.5l.94-2.06 2.06-.94-2.06-.94L8.5 2.5l-.94 2.06-2.06.94zm10 10l.94 2.06.94-2.06 2.06-.94-2.06-.94-.94-2.06-.94 2.06-2.06.94z\"/><path d=\"M17.41 7.96l-1.37-1.37c-.4-.4-.92-.59-1.43-.59-.52 0-1.04.2-1.43.59L10.3 9.45l-7.72 7.72c-.78.78-.78 2.05 0 2.83L4 21.41c.39.39.9.59 1.41.59.51 0 1.02-.2 1.41-.59l7.78-7.78 2.81-2.81c.8-.78.8-2.07 0-2.86zM5.41 20L4 18.59l7.72-7.72 1.47 1.35L5.41 20z\"/>\n",
              "  </svg>\n",
              "      </button>\n",
              "      \n",
              "  <style>\n",
              "    .colab-df-container {\n",
              "      display:flex;\n",
              "      flex-wrap:wrap;\n",
              "      gap: 12px;\n",
              "    }\n",
              "\n",
              "    .colab-df-convert {\n",
              "      background-color: #E8F0FE;\n",
              "      border: none;\n",
              "      border-radius: 50%;\n",
              "      cursor: pointer;\n",
              "      display: none;\n",
              "      fill: #1967D2;\n",
              "      height: 32px;\n",
              "      padding: 0 0 0 0;\n",
              "      width: 32px;\n",
              "    }\n",
              "\n",
              "    .colab-df-convert:hover {\n",
              "      background-color: #E2EBFA;\n",
              "      box-shadow: 0px 1px 2px rgba(60, 64, 67, 0.3), 0px 1px 3px 1px rgba(60, 64, 67, 0.15);\n",
              "      fill: #174EA6;\n",
              "    }\n",
              "\n",
              "    [theme=dark] .colab-df-convert {\n",
              "      background-color: #3B4455;\n",
              "      fill: #D2E3FC;\n",
              "    }\n",
              "\n",
              "    [theme=dark] .colab-df-convert:hover {\n",
              "      background-color: #434B5C;\n",
              "      box-shadow: 0px 1px 3px 1px rgba(0, 0, 0, 0.15);\n",
              "      filter: drop-shadow(0px 1px 2px rgba(0, 0, 0, 0.3));\n",
              "      fill: #FFFFFF;\n",
              "    }\n",
              "  </style>\n",
              "\n",
              "      <script>\n",
              "        const buttonEl =\n",
              "          document.querySelector('#df-4243cb9b-200c-4254-8ed6-8354cc92707b button.colab-df-convert');\n",
              "        buttonEl.style.display =\n",
              "          google.colab.kernel.accessAllowed ? 'block' : 'none';\n",
              "\n",
              "        async function convertToInteractive(key) {\n",
              "          const element = document.querySelector('#df-4243cb9b-200c-4254-8ed6-8354cc92707b');\n",
              "          const dataTable =\n",
              "            await google.colab.kernel.invokeFunction('convertToInteractive',\n",
              "                                                     [key], {});\n",
              "          if (!dataTable) return;\n",
              "\n",
              "          const docLinkHtml = 'Like what you see? Visit the ' +\n",
              "            '<a target=\"_blank\" href=https://colab.research.google.com/notebooks/data_table.ipynb>data table notebook</a>'\n",
              "            + ' to learn more about interactive tables.';\n",
              "          element.innerHTML = '';\n",
              "          dataTable['output_type'] = 'display_data';\n",
              "          await google.colab.output.renderOutput(dataTable, element);\n",
              "          const docLink = document.createElement('div');\n",
              "          docLink.innerHTML = docLinkHtml;\n",
              "          element.appendChild(docLink);\n",
              "        }\n",
              "      </script>\n",
              "    </div>\n",
              "  </div>\n",
              "  "
            ]
          },
          "metadata": {},
          "execution_count": 3
        }
      ]
    },
    {
      "cell_type": "markdown",
      "source": [
        "Trying to find my favorite club!\n",
        "\n",
        "My favorite club is Liverpool Football Club. It is a professional football club that competes in the Premier League, the top tier of English football.![download.jpg](data:image/jpeg;base64,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)"
      ],
      "metadata": {
        "id": "0JIx4V5QfA55"
      }
    },
    {
      "cell_type": "code",
      "source": [
        "df['club'].str.contains('Liverpool').any()"
      ],
      "metadata": {
        "colab": {
          "base_uri": "https://localhost:8080/"
        },
        "id": "_tyzGQbTX33H",
        "outputId": "f4db871a-d7ff-42cd-ef97-4bd574085411"
      },
      "execution_count": null,
      "outputs": [
        {
          "output_type": "execute_result",
          "data": {
            "text/plain": [
              "True"
            ]
          },
          "metadata": {},
          "execution_count": 50
        }
      ]
    },
    {
      "cell_type": "markdown",
      "source": [
        "str.contains will search for the specific string that conatains in the column. In my case I was looking for Liverpool under the club column."
      ],
      "metadata": {
        "id": "h0W_5ZDJYdmD"
      }
    },
    {
      "cell_type": "markdown",
      "source": [
        "## b) Show a table with all the data about your favorite club or nationality. Include some description about an interesting fact in the data"
      ],
      "metadata": {
        "id": "Y7OUs1aLhxdg"
      }
    },
    {
      "cell_type": "markdown",
      "source": [
        ".loc[ ] give access to rows and columns by label(s) or a boolean array. Lets find out some details and facts about Liverpool club!"
      ],
      "metadata": {
        "id": "TKRaM1nEZARF"
      }
    },
    {
      "cell_type": "code",
      "source": [
        "d=df.loc[df['club']=='Liverpool']\n",
        "d"
      ],
      "metadata": {
        "colab": {
          "base_uri": "https://localhost:8080/",
          "height": 457
        },
        "id": "qs7bsxFV1e-r",
        "outputId": "354bc6ec-60b1-4a48-bd81-ce3e20db4979"
      },
      "execution_count": null,
      "outputs": [
        {
          "output_type": "execute_result",
          "data": {
            "text/plain": [
              "     Unnamed: 0  Rank                  player       club  age   Apps  Mins  \\\n",
              "410         790     3           Mohamed Salah  Liverpool   25  34(2)  2922   \n",
              "411         791     8           Mohamed Salah  Liverpool   25  12(1)   931   \n",
              "424         810    12         Roberto Firmino  Liverpool   26  32(5)  2778   \n",
              "425         812     7         Roberto Firmino  Liverpool   26     13  1056   \n",
              "428         817    20              Sadio Mane  Liverpool   26  28(1)  2207   \n",
              "429         819     5              Sadio Mane  Liverpool   26     11   940   \n",
              "457         874    63  Trent Alexander-Arnold  Liverpool   19  18(1)  1576   \n",
              "458         876   102  Trent Alexander-Arnold  Liverpool   19   9(1)   821   \n",
              "460         880    68            Dejan Lovren  Liverpool   28  24(5)  2125   \n",
              "461         882   132            Dejan Lovren  Liverpool   28     12  1050   \n",
              "466         892    77        Jordan Henderson  Liverpool   27  25(2)  2173   \n",
              "467         894   177        Jordan Henderson  Liverpool   27   9(1)   868   \n",
              "512         984   261          Simon Mignolet  Liverpool   30     19  1710   \n",
              "\n",
              "     Goals  Assists  Yel  Red  SpG    PS AerialsWon  MotM  Rating nationality  \n",
              "410     32       10    1    0    4  76.7        0.4     8    7.69       Egypt  \n",
              "411     10        4    0    0  3.3  74.7        0.2     1    7.97       Egypt  \n",
              "424     15        7    1    0  2.3  72.6        1.2     3    7.39      Brazil  \n",
              "425     10        7    2    0  3.2  74.6        2.4     1    7.98      Brazil  \n",
              "428     10        7    3    1  2.4  80.4        0.9     1    7.27     Senegal  \n",
              "429     10        1    2    0  2.8  77.2        1.5     4    8.12     Senegal  \n",
              "457      1        1    3    0  0.6  77.3        0.3     0    7.02     England  \n",
              "458      1        1    2    0  0.8  77.0        0.2     0    7.07     England  \n",
              "460      2        1    4    0  0.5  88.5        3.6     2    6.99     Croatia  \n",
              "461      0        1    2    0  0.5  84.1        3.1     0    7.00     Croatia  \n",
              "466      1        1    1    0  0.6  84.4          1     0    6.95     England  \n",
              "467      0        0    3    0  0.2  82.7        0.8     0    6.86     England  \n",
              "512      0        0    3    0    -  69.5        0.2     0    6.49     Belgium  "
            ],
            "text/html": [
              "\n",
              "  <div id=\"df-67abc206-27eb-456e-a3fa-3f4f70e087f8\">\n",
              "    <div class=\"colab-df-container\">\n",
              "      <div>\n",
              "<style scoped>\n",
              "    .dataframe tbody tr th:only-of-type {\n",
              "        vertical-align: middle;\n",
              "    }\n",
              "\n",
              "    .dataframe tbody tr th {\n",
              "        vertical-align: top;\n",
              "    }\n",
              "\n",
              "    .dataframe thead th {\n",
              "        text-align: right;\n",
              "    }\n",
              "</style>\n",
              "<table border=\"1\" class=\"dataframe\">\n",
              "  <thead>\n",
              "    <tr style=\"text-align: right;\">\n",
              "      <th></th>\n",
              "      <th>Unnamed: 0</th>\n",
              "      <th>Rank</th>\n",
              "      <th>player</th>\n",
              "      <th>club</th>\n",
              "      <th>age</th>\n",
              "      <th>Apps</th>\n",
              "      <th>Mins</th>\n",
              "      <th>Goals</th>\n",
              "      <th>Assists</th>\n",
              "      <th>Yel</th>\n",
              "      <th>Red</th>\n",
              "      <th>SpG</th>\n",
              "      <th>PS</th>\n",
              "      <th>AerialsWon</th>\n",
              "      <th>MotM</th>\n",
              "      <th>Rating</th>\n",
              "      <th>nationality</th>\n",
              "    </tr>\n",
              "  </thead>\n",
              "  <tbody>\n",
              "    <tr>\n",
              "      <th>410</th>\n",
              "      <td>790</td>\n",
              "      <td>3</td>\n",
              "      <td>Mohamed Salah</td>\n",
              "      <td>Liverpool</td>\n",
              "      <td>25</td>\n",
              "      <td>34(2)</td>\n",
              "      <td>2922</td>\n",
              "      <td>32</td>\n",
              "      <td>10</td>\n",
              "      <td>1</td>\n",
              "      <td>0</td>\n",
              "      <td>4</td>\n",
              "      <td>76.7</td>\n",
              "      <td>0.4</td>\n",
              "      <td>8</td>\n",
              "      <td>7.69</td>\n",
              "      <td>Egypt</td>\n",
              "    </tr>\n",
              "    <tr>\n",
              "      <th>411</th>\n",
              "      <td>791</td>\n",
              "      <td>8</td>\n",
              "      <td>Mohamed Salah</td>\n",
              "      <td>Liverpool</td>\n",
              "      <td>25</td>\n",
              "      <td>12(1)</td>\n",
              "      <td>931</td>\n",
              "      <td>10</td>\n",
              "      <td>4</td>\n",
              "      <td>0</td>\n",
              "      <td>0</td>\n",
              "      <td>3.3</td>\n",
              "      <td>74.7</td>\n",
              "      <td>0.2</td>\n",
              "      <td>1</td>\n",
              "      <td>7.97</td>\n",
              "      <td>Egypt</td>\n",
              "    </tr>\n",
              "    <tr>\n",
              "      <th>424</th>\n",
              "      <td>810</td>\n",
              "      <td>12</td>\n",
              "      <td>Roberto Firmino</td>\n",
              "      <td>Liverpool</td>\n",
              "      <td>26</td>\n",
              "      <td>32(5)</td>\n",
              "      <td>2778</td>\n",
              "      <td>15</td>\n",
              "      <td>7</td>\n",
              "      <td>1</td>\n",
              "      <td>0</td>\n",
              "      <td>2.3</td>\n",
              "      <td>72.6</td>\n",
              "      <td>1.2</td>\n",
              "      <td>3</td>\n",
              "      <td>7.39</td>\n",
              "      <td>Brazil</td>\n",
              "    </tr>\n",
              "    <tr>\n",
              "      <th>425</th>\n",
              "      <td>812</td>\n",
              "      <td>7</td>\n",
              "      <td>Roberto Firmino</td>\n",
              "      <td>Liverpool</td>\n",
              "      <td>26</td>\n",
              "      <td>13</td>\n",
              "      <td>1056</td>\n",
              "      <td>10</td>\n",
              "      <td>7</td>\n",
              "      <td>2</td>\n",
              "      <td>0</td>\n",
              "      <td>3.2</td>\n",
              "      <td>74.6</td>\n",
              "      <td>2.4</td>\n",
              "      <td>1</td>\n",
              "      <td>7.98</td>\n",
              "      <td>Brazil</td>\n",
              "    </tr>\n",
              "    <tr>\n",
              "      <th>428</th>\n",
              "      <td>817</td>\n",
              "      <td>20</td>\n",
              "      <td>Sadio Mane</td>\n",
              "      <td>Liverpool</td>\n",
              "      <td>26</td>\n",
              "      <td>28(1)</td>\n",
              "      <td>2207</td>\n",
              "      <td>10</td>\n",
              "      <td>7</td>\n",
              "      <td>3</td>\n",
              "      <td>1</td>\n",
              "      <td>2.4</td>\n",
              "      <td>80.4</td>\n",
              "      <td>0.9</td>\n",
              "      <td>1</td>\n",
              "      <td>7.27</td>\n",
              "      <td>Senegal</td>\n",
              "    </tr>\n",
              "    <tr>\n",
              "      <th>429</th>\n",
              "      <td>819</td>\n",
              "      <td>5</td>\n",
              "      <td>Sadio Mane</td>\n",
              "      <td>Liverpool</td>\n",
              "      <td>26</td>\n",
              "      <td>11</td>\n",
              "      <td>940</td>\n",
              "      <td>10</td>\n",
              "      <td>1</td>\n",
              "      <td>2</td>\n",
              "      <td>0</td>\n",
              "      <td>2.8</td>\n",
              "      <td>77.2</td>\n",
              "      <td>1.5</td>\n",
              "      <td>4</td>\n",
              "      <td>8.12</td>\n",
              "      <td>Senegal</td>\n",
              "    </tr>\n",
              "    <tr>\n",
              "      <th>457</th>\n",
              "      <td>874</td>\n",
              "      <td>63</td>\n",
              "      <td>Trent Alexander-Arnold</td>\n",
              "      <td>Liverpool</td>\n",
              "      <td>19</td>\n",
              "      <td>18(1)</td>\n",
              "      <td>1576</td>\n",
              "      <td>1</td>\n",
              "      <td>1</td>\n",
              "      <td>3</td>\n",
              "      <td>0</td>\n",
              "      <td>0.6</td>\n",
              "      <td>77.3</td>\n",
              "      <td>0.3</td>\n",
              "      <td>0</td>\n",
              "      <td>7.02</td>\n",
              "      <td>England</td>\n",
              "    </tr>\n",
              "    <tr>\n",
              "      <th>458</th>\n",
              "      <td>876</td>\n",
              "      <td>102</td>\n",
              "      <td>Trent Alexander-Arnold</td>\n",
              "      <td>Liverpool</td>\n",
              "      <td>19</td>\n",
              "      <td>9(1)</td>\n",
              "      <td>821</td>\n",
              "      <td>1</td>\n",
              "      <td>1</td>\n",
              "      <td>2</td>\n",
              "      <td>0</td>\n",
              "      <td>0.8</td>\n",
              "      <td>77.0</td>\n",
              "      <td>0.2</td>\n",
              "      <td>0</td>\n",
              "      <td>7.07</td>\n",
              "      <td>England</td>\n",
              "    </tr>\n",
              "    <tr>\n",
              "      <th>460</th>\n",
              "      <td>880</td>\n",
              "      <td>68</td>\n",
              "      <td>Dejan Lovren</td>\n",
              "      <td>Liverpool</td>\n",
              "      <td>28</td>\n",
              "      <td>24(5)</td>\n",
              "      <td>2125</td>\n",
              "      <td>2</td>\n",
              "      <td>1</td>\n",
              "      <td>4</td>\n",
              "      <td>0</td>\n",
              "      <td>0.5</td>\n",
              "      <td>88.5</td>\n",
              "      <td>3.6</td>\n",
              "      <td>2</td>\n",
              "      <td>6.99</td>\n",
              "      <td>Croatia</td>\n",
              "    </tr>\n",
              "    <tr>\n",
              "      <th>461</th>\n",
              "      <td>882</td>\n",
              "      <td>132</td>\n",
              "      <td>Dejan Lovren</td>\n",
              "      <td>Liverpool</td>\n",
              "      <td>28</td>\n",
              "      <td>12</td>\n",
              "      <td>1050</td>\n",
              "      <td>0</td>\n",
              "      <td>1</td>\n",
              "      <td>2</td>\n",
              "      <td>0</td>\n",
              "      <td>0.5</td>\n",
              "      <td>84.1</td>\n",
              "      <td>3.1</td>\n",
              "      <td>0</td>\n",
              "      <td>7.00</td>\n",
              "      <td>Croatia</td>\n",
              "    </tr>\n",
              "    <tr>\n",
              "      <th>466</th>\n",
              "      <td>892</td>\n",
              "      <td>77</td>\n",
              "      <td>Jordan Henderson</td>\n",
              "      <td>Liverpool</td>\n",
              "      <td>27</td>\n",
              "      <td>25(2)</td>\n",
              "      <td>2173</td>\n",
              "      <td>1</td>\n",
              "      <td>1</td>\n",
              "      <td>1</td>\n",
              "      <td>0</td>\n",
              "      <td>0.6</td>\n",
              "      <td>84.4</td>\n",
              "      <td>1</td>\n",
              "      <td>0</td>\n",
              "      <td>6.95</td>\n",
              "      <td>England</td>\n",
              "    </tr>\n",
              "    <tr>\n",
              "      <th>467</th>\n",
              "      <td>894</td>\n",
              "      <td>177</td>\n",
              "      <td>Jordan Henderson</td>\n",
              "      <td>Liverpool</td>\n",
              "      <td>27</td>\n",
              "      <td>9(1)</td>\n",
              "      <td>868</td>\n",
              "      <td>0</td>\n",
              "      <td>0</td>\n",
              "      <td>3</td>\n",
              "      <td>0</td>\n",
              "      <td>0.2</td>\n",
              "      <td>82.7</td>\n",
              "      <td>0.8</td>\n",
              "      <td>0</td>\n",
              "      <td>6.86</td>\n",
              "      <td>England</td>\n",
              "    </tr>\n",
              "    <tr>\n",
              "      <th>512</th>\n",
              "      <td>984</td>\n",
              "      <td>261</td>\n",
              "      <td>Simon Mignolet</td>\n",
              "      <td>Liverpool</td>\n",
              "      <td>30</td>\n",
              "      <td>19</td>\n",
              "      <td>1710</td>\n",
              "      <td>0</td>\n",
              "      <td>0</td>\n",
              "      <td>3</td>\n",
              "      <td>0</td>\n",
              "      <td>-</td>\n",
              "      <td>69.5</td>\n",
              "      <td>0.2</td>\n",
              "      <td>0</td>\n",
              "      <td>6.49</td>\n",
              "      <td>Belgium</td>\n",
              "    </tr>\n",
              "  </tbody>\n",
              "</table>\n",
              "</div>\n",
              "      <button class=\"colab-df-convert\" onclick=\"convertToInteractive('df-67abc206-27eb-456e-a3fa-3f4f70e087f8')\"\n",
              "              title=\"Convert this dataframe to an interactive table.\"\n",
              "              style=\"display:none;\">\n",
              "        \n",
              "  <svg xmlns=\"http://www.w3.org/2000/svg\" height=\"24px\"viewBox=\"0 0 24 24\"\n",
              "       width=\"24px\">\n",
              "    <path d=\"M0 0h24v24H0V0z\" fill=\"none\"/>\n",
              "    <path d=\"M18.56 5.44l.94 2.06.94-2.06 2.06-.94-2.06-.94-.94-2.06-.94 2.06-2.06.94zm-11 1L8.5 8.5l.94-2.06 2.06-.94-2.06-.94L8.5 2.5l-.94 2.06-2.06.94zm10 10l.94 2.06.94-2.06 2.06-.94-2.06-.94-.94-2.06-.94 2.06-2.06.94z\"/><path d=\"M17.41 7.96l-1.37-1.37c-.4-.4-.92-.59-1.43-.59-.52 0-1.04.2-1.43.59L10.3 9.45l-7.72 7.72c-.78.78-.78 2.05 0 2.83L4 21.41c.39.39.9.59 1.41.59.51 0 1.02-.2 1.41-.59l7.78-7.78 2.81-2.81c.8-.78.8-2.07 0-2.86zM5.41 20L4 18.59l7.72-7.72 1.47 1.35L5.41 20z\"/>\n",
              "  </svg>\n",
              "      </button>\n",
              "      \n",
              "  <style>\n",
              "    .colab-df-container {\n",
              "      display:flex;\n",
              "      flex-wrap:wrap;\n",
              "      gap: 12px;\n",
              "    }\n",
              "\n",
              "    .colab-df-convert {\n",
              "      background-color: #E8F0FE;\n",
              "      border: none;\n",
              "      border-radius: 50%;\n",
              "      cursor: pointer;\n",
              "      display: none;\n",
              "      fill: #1967D2;\n",
              "      height: 32px;\n",
              "      padding: 0 0 0 0;\n",
              "      width: 32px;\n",
              "    }\n",
              "\n",
              "    .colab-df-convert:hover {\n",
              "      background-color: #E2EBFA;\n",
              "      box-shadow: 0px 1px 2px rgba(60, 64, 67, 0.3), 0px 1px 3px 1px rgba(60, 64, 67, 0.15);\n",
              "      fill: #174EA6;\n",
              "    }\n",
              "\n",
              "    [theme=dark] .colab-df-convert {\n",
              "      background-color: #3B4455;\n",
              "      fill: #D2E3FC;\n",
              "    }\n",
              "\n",
              "    [theme=dark] .colab-df-convert:hover {\n",
              "      background-color: #434B5C;\n",
              "      box-shadow: 0px 1px 3px 1px rgba(0, 0, 0, 0.15);\n",
              "      filter: drop-shadow(0px 1px 2px rgba(0, 0, 0, 0.3));\n",
              "      fill: #FFFFFF;\n",
              "    }\n",
              "  </style>\n",
              "\n",
              "      <script>\n",
              "        const buttonEl =\n",
              "          document.querySelector('#df-67abc206-27eb-456e-a3fa-3f4f70e087f8 button.colab-df-convert');\n",
              "        buttonEl.style.display =\n",
              "          google.colab.kernel.accessAllowed ? 'block' : 'none';\n",
              "\n",
              "        async function convertToInteractive(key) {\n",
              "          const element = document.querySelector('#df-67abc206-27eb-456e-a3fa-3f4f70e087f8');\n",
              "          const dataTable =\n",
              "            await google.colab.kernel.invokeFunction('convertToInteractive',\n",
              "                                                     [key], {});\n",
              "          if (!dataTable) return;\n",
              "\n",
              "          const docLinkHtml = 'Like what you see? Visit the ' +\n",
              "            '<a target=\"_blank\" href=https://colab.research.google.com/notebooks/data_table.ipynb>data table notebook</a>'\n",
              "            + ' to learn more about interactive tables.';\n",
              "          element.innerHTML = '';\n",
              "          dataTable['output_type'] = 'display_data';\n",
              "          await google.colab.output.renderOutput(dataTable, element);\n",
              "          const docLink = document.createElement('div');\n",
              "          docLink.innerHTML = docLinkHtml;\n",
              "          element.appendChild(docLink);\n",
              "        }\n",
              "      </script>\n",
              "    </div>\n",
              "  </div>\n",
              "  "
            ]
          },
          "metadata": {},
          "execution_count": 42
        }
      ]
    },
    {
      "cell_type": "markdown",
      "source": [
        "Youngest player is Trent Alexander who is from England. He has good rating and known for his range of passing and providing assists, he is regarded as one of the best right-backs in world football.\n",
        "\n",
        "Mohanmed Salah is the player who has scored the most goals. He is Egyptian professional footballer who plays as a forward for Premier League club Liverpool and captains the Egypt national team. He is considered to be one of the best players in the world and known for his speed, dribbling, and finishing."
      ],
      "metadata": {
        "id": "kuNZbmvkU-9y"
      }
    },
    {
      "cell_type": "code",
      "source": [
        "# Looking for the players who have scored atleast 2 goals! \n",
        "d['player'].where(d['Goals'] >= 2)"
      ],
      "metadata": {
        "colab": {
          "base_uri": "https://localhost:8080/"
        },
        "id": "mmLOVlpFevl3",
        "outputId": "cfa5f2e3-3ca5-444b-e1b5-f486309e2d20"
      },
      "execution_count": null,
      "outputs": [
        {
          "output_type": "execute_result",
          "data": {
            "text/plain": [
              "410      Mohamed Salah\n",
              "411      Mohamed Salah\n",
              "424    Roberto Firmino\n",
              "425    Roberto Firmino\n",
              "428         Sadio Mane\n",
              "429         Sadio Mane\n",
              "457                NaN\n",
              "458                NaN\n",
              "460       Dejan Lovren\n",
              "461                NaN\n",
              "466                NaN\n",
              "467                NaN\n",
              "512                NaN\n",
              "Name: player, dtype: object"
            ]
          },
          "metadata": {},
          "execution_count": 57
        }
      ]
    },
    {
      "cell_type": "markdown",
      "source": [
        "Found 4 players who had atleast made 2 goals."
      ],
      "metadata": {
        "id": "RVeRjSUft7Ws"
      }
    },
    {
      "cell_type": "markdown",
      "source": [
        "## c) Create a histogram of the ‘Goals’."
      ],
      "metadata": {
        "id": "gvt1BH25vDsf"
      }
    },
    {
      "cell_type": "code",
      "source": [
        "data = df.Goals.plot.hist(bins = 20, title = \"Histogram of Goals\") \n",
        "data.set_xlabel(\"Number of Goals\")\n",
        "data.set_ylabel(\"Number of Players\")\n",
        "\n"
      ],
      "metadata": {
        "colab": {
          "base_uri": "https://localhost:8080/",
          "height": 313
        },
        "id": "KuAHIl-lrtT2",
        "outputId": "8166bad3-97f3-48c2-d4bc-92c4002d0d81"
      },
      "execution_count": null,
      "outputs": [
        {
          "output_type": "execute_result",
          "data": {
            "text/plain": [
              "Text(0, 0.5, 'Number of Players')"
            ]
          },
          "metadata": {},
          "execution_count": 84
        },
        {
          "output_type": "display_data",
          "data": {
            "text/plain": [
              "<Figure size 432x288 with 1 Axes>"
            ],
            "image/png": "[encoded data removed]"
          },
          "metadata": {
            "needs_background": "light"
          }
        }
      ]
    },
    {
      "cell_type": "markdown",
      "source": [
        "We can see that many indivisuals have scored a goal. That means most players have altleast 1 goal or none. Least players have score more than 10 goals! "
      ],
      "metadata": {
        "id": "oIMBioSN9iBs"
      }
    },
    {
      "cell_type": "markdown",
      "source": [
        "## d) Create a histogram of the ‘Goals’ and ‘Assists’ on the same axis."
      ],
      "metadata": {
        "id": "WKdMsUTo4l5L"
      }
    },
    {
      "cell_type": "code",
      "source": [
        "df1=df[['Goals','Assists']].plot.hist(title=\"Histogram of Goals and Assist\")\n",
        "df1.set_xlabel(\"Number of Goals\")\n",
        "df1.set_ylabel(\"Number of Players\")\n"
      ],
      "metadata": {
        "colab": {
          "base_uri": "https://localhost:8080/",
          "height": 313
        },
        "id": "IygswyxMvOmg",
        "outputId": "08cbce79-b447-48cd-886a-d719484414ee"
      },
      "execution_count": null,
      "outputs": [
        {
          "output_type": "execute_result",
          "data": {
            "text/plain": [
              "Text(0, 0.5, 'Number of Players')"
            ]
          },
          "metadata": {},
          "execution_count": 91
        },
        {
          "output_type": "display_data",
          "data": {
            "text/plain": [
              "<Figure size 432x288 with 1 Axes>"
            ],
            "image/png": "[encoded data removed]"
          },
          "metadata": {
            "needs_background": "light"
          }
        }
      ]
    },
    {
      "cell_type": "markdown",
      "source": [
        "As index says most goals are made by assists! There are only very few goals made by individual effort!"
      ],
      "metadata": {
        "id": "0E7G1JkH-7qH"
      }
    },
    {
      "cell_type": "markdown",
      "source": [
        "## e) Create a barchart for most goals scored by nationality."
      ],
      "metadata": {
        "id": "jbGuySY8S2ay"
      }
    },
    {
      "cell_type": "code",
      "source": [
        "df2 = df.groupby(['nationality'])['Goals'].sum()\n",
        "df2.plot(kind='bar', title=\"Barchart of Goals\").set_ylabel(\"Goals\")\n",
        "plt.show()"
      ],
      "metadata": {
        "colab": {
          "base_uri": "https://localhost:8080/",
          "height": 344
        },
        "id": "dahEQf-0S5Eb",
        "outputId": "4513bf88-7820-4e1d-ad3d-ef5228759527"
      },
      "execution_count": null,
      "outputs": [
        {
          "output_type": "display_data",
          "data": {
            "text/plain": [
              "<Figure size 432x288 with 1 Axes>"
            ],
            "image/png": "[encoded data removed]"
          },
          "metadata": {
            "needs_background": "light"
          }
        }
      ]
    },
    {
      "cell_type": "markdown",
      "source": [
        "Most goal is made by Argentina and the second is Brazil. The most least goal is made by Costa Rica."
      ],
      "metadata": {
        "id": "emzkP6bi_a74"
      }
    },
    {
      "cell_type": "markdown",
      "source": [
        "## f) Create a boxplot of ‘Yel’ (yellow cards) by nationality."
      ],
      "metadata": {
        "id": "3-e-9VjaYwKY"
      }
    },
    {
      "cell_type": "code",
      "source": [
        "df.boxplot(by=\"nationality\", column=\"Yel\", rot=90).set_ylabel(\"No. of Yellow card\")"
      ],
      "metadata": {
        "id": "e1bb6Atrpwm5",
        "outputId": "0f51f4a5-7c3d-40f7-edfe-93c0f414b1f6",
        "colab": {
          "base_uri": "https://localhost:8080/",
          "height": 424
        }
      },
      "execution_count": null,
      "outputs": [
        {
          "output_type": "stream",
          "name": "stderr",
          "text": [
            "/usr/local/lib/python3.7/dist-packages/matplotlib/cbook/__init__.py:1376: VisibleDeprecationWarning: Creating an ndarray from ragged nested sequences (which is a list-or-tuple of lists-or-tuples-or ndarrays with different lengths or shapes) is deprecated. If you meant to do this, you must specify 'dtype=object' when creating the ndarray.\n",
            "  X = np.atleast_1d(X.T if isinstance(X, np.ndarray) else np.asarray(X))\n"
          ]
        },
        {
          "output_type": "execute_result",
          "data": {
            "text/plain": [
              "Text(0, 0.5, 'No. of Yellow card')"
            ]
          },
          "metadata": {},
          "execution_count": 122
        },
        {
          "output_type": "display_data",
          "data": {
            "text/plain": [
              "<Figure size 432x288 with 1 Axes>"
            ],
            "image/png": "[encoded data removed]"
          },
          "metadata": {
            "needs_background": "light"
          }
        }
      ]
    },
    {
      "cell_type": "markdown",
      "source": [
        "Columbia footall players got the most yellow card!"
      ],
      "metadata": {
        "id": "YgUj737P_rel"
      }
    },
    {
      "cell_type": "markdown",
      "source": [
        "## g) Create ‘Goals’ and ‘Assists’ as scatter. Signify your favorite club or nationality in some way on the scatterplot. You may need to add a new column to the dataset to do so"
      ],
      "metadata": {
        "id": "U_dZ8HZGerU6"
      }
    },
    {
      "cell_type": "code",
      "source": [
        "sns.relplot(data=df, x = 'Goals', y= 'Assists' )\n",
        "plt.title('A scatterplot of goals and assists')"
      ],
      "metadata": {
        "colab": {
          "base_uri": "https://localhost:8080/",
          "height": 404
        },
        "id": "XH6i1c4NaHGp",
        "outputId": "c8f43969-7880-4313-dbd3-95e7a4f17569"
      },
      "execution_count": null,
      "outputs": [
        {
          "output_type": "execute_result",
          "data": {
            "text/plain": [
              "Text(0.5, 1.0, 'A scatterplot of goals and assists')"
            ]
          },
          "metadata": {},
          "execution_count": 62
        },
        {
          "output_type": "display_data",
          "data": {
            "text/plain": [
              "<Figure size 360x360 with 1 Axes>"
            ],
            "image/png": "[encoded data removed]"
          },
          "metadata": {
            "needs_background": "light"
          }
        }
      ]
    },
    {
      "cell_type": "markdown",
      "source": [
        "## 2)"
      ],
      "metadata": {
        "id": "avQcFTctvL-5"
      }
    },
    {
      "cell_type": "markdown",
      "source": [
        "(a) Approximately how long did you work on this exam?\n",
        "\n",
        " This took me about 4 hours to complete with some short breaks.\n",
        "\n",
        "(b) Which was the hardest and easiest topic from this section?\n",
        "\n",
        " Number (g) and (h) was the most difficult part for me.\n",
        "\n",
        "(c) Which method of visualization are you still unclear what it might show?\n",
        "\n",
        "=> Raincloud in Seaborn."
      ],
      "metadata": {
        "id": "KGT-2UL90ulO"
      }
    },
    {
      "cell_type": "code",
      "source": [
        ""
      ],
      "metadata": {
        "id": "PnE6hwLR0yxg"
      },
      "execution_count": null,
      "outputs": []
    }
  ]
}